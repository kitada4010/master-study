{
 "cells": [
  {
   "cell_type": "code",
   "execution_count": null,
   "metadata": {},
   "outputs": [],
   "source": [
    "import numpy as np\n",
    "from sklearn import datasets\n",
    "from sklearn import linear_model\n",
    "import matplotlib.pyplot as plt\n",
    "from sklearn.model_selection import train_test_split\n",
    "from sklearn.metrics import accuracy_score"
   ]
  },
  {
   "cell_type": "code",
   "execution_count": null,
   "metadata": {},
   "outputs": [],
   "source": [
    "boston = datasets.load_boston()\n",
    "X_train, X_val, y_train, y_val = train_test_split(boston.data, boston.target, train_size=0.8, random_state=1)\n",
    "\n",
    "clf = linear_model.Ridge(alpha = .5)\n",
    "clf.fit(X_train, y_train)\n",
    "\n",
    "y_train_pred = clf.predict(X_train)\n",
    "y_val_pred = clf.predict(X_val)\n",
    "#predicted = clf.predict(boston.data[-10:-1])\n",
    "\n",
    "print(boston.target)\n",
    "print(type(boston.target))\n",
    "#testy = boston.target[-10:-1]\n",
    "testy = y_val\n",
    "#print(y_train_pred)\n",
    "#print(y_val_pred)\n",
    "#print(predicted)\n",
    "#print(testy)"
   ]
  },
  {
   "cell_type": "code",
   "execution_count": null,
   "metadata": {},
   "outputs": [],
   "source": [
    "predicted = clf.predict(boston.data)\n",
    "#train_predicted = clf.predi\n",
    "#testy = boston.target\n",
    "\n",
    "train_score = clf.score(X_train, y_train)\n",
    "val_score = clf.score(X_val, y_val)\n",
    "fig, ax = plt.subplots()\n",
    "\n",
    "print(train_score)\n",
    "print(val_score)\n",
    "\n",
    "ax.scatter(y_train, y_train_pred)\n",
    "#ax.plot([y_train.min(), y_train.max()], [y_train.min(), y_train.max()], 'k--', lw=4)\n",
    "ax.set_xlabel('Measured')\n",
    "ax.set_ylabel('predicted')\n",
    "#plt.show()\n",
    "\n",
    "ax.scatter(testy, y_val_pred)\n",
    "ax.plot([testy.min(), testy.max()], [testy.min(), testy.max()], 'k--', lw=4)\n",
    "ax.set_xlabel('Measured')\n",
    "ax.set_ylabel('predicted')\n",
    "plt.show()"
   ]
  },
  {
   "cell_type": "code",
   "execution_count": null,
   "metadata": {},
   "outputs": [],
   "source": []
  }
 ],
 "metadata": {
  "kernelspec": {
   "display_name": "Python 3",
   "language": "python",
   "name": "python3"
  },
  "language_info": {
   "codemirror_mode": {
    "name": "ipython",
    "version": 3
   },
   "file_extension": ".py",
   "mimetype": "text/x-python",
   "name": "python",
   "nbconvert_exporter": "python",
   "pygments_lexer": "ipython3",
   "version": "3.7.4"
  }
 },
 "nbformat": 4,
 "nbformat_minor": 2
}
