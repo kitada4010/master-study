{
 "cells": [
  {
   "cell_type": "code",
<<<<<<< HEAD
   "execution_count": null,
   "metadata": {},
=======
   "execution_count": 11,
   "metadata": {
    "collapsed": true
   },
>>>>>>> 58b012f4ebe68c8c18e1a8084fa0689edab553f8
   "outputs": [],
   "source": [
    "import numpy as np\n",
    "from sklearn import datasets\n",
    "from sklearn import linear_model\n",
    "import matplotlib.pyplot as plt\n",
    "from sklearn.model_selection import train_test_split\n",
    "from sklearn.metrics import accuracy_score"
   ]
  },
  {
   "cell_type": "code",
<<<<<<< HEAD
   "execution_count": null,
   "metadata": {},
   "outputs": [],
=======
   "execution_count": 15,
   "metadata": {},
   "outputs": [
    {
     "name": "stdout",
     "output_type": "stream",
     "text": [
      "[24.  21.6 34.7 33.4 36.2 28.7 22.9 27.1 16.5 18.9 15.  18.9 21.7 20.4\n",
      " 18.2 19.9 23.1 17.5 20.2 18.2 13.6 19.6 15.2 14.5 15.6 13.9 16.6 14.8\n",
      " 18.4 21.  12.7 14.5 13.2 13.1 13.5 18.9 20.  21.  24.7 30.8 34.9 26.6\n",
      " 25.3 24.7 21.2 19.3 20.  16.6 14.4 19.4 19.7 20.5 25.  23.4 18.9 35.4\n",
      " 24.7 31.6 23.3 19.6 18.7 16.  22.2 25.  33.  23.5 19.4 22.  17.4 20.9\n",
      " 24.2 21.7 22.8 23.4 24.1 21.4 20.  20.8 21.2 20.3 28.  23.9 24.8 22.9\n",
      " 23.9 26.6 22.5 22.2 23.6 28.7 22.6 22.  22.9 25.  20.6 28.4 21.4 38.7\n",
      " 43.8 33.2 27.5 26.5 18.6 19.3 20.1 19.5 19.5 20.4 19.8 19.4 21.7 22.8\n",
      " 18.8 18.7 18.5 18.3 21.2 19.2 20.4 19.3 22.  20.3 20.5 17.3 18.8 21.4\n",
      " 15.7 16.2 18.  14.3 19.2 19.6 23.  18.4 15.6 18.1 17.4 17.1 13.3 17.8\n",
      " 14.  14.4 13.4 15.6 11.8 13.8 15.6 14.6 17.8 15.4 21.5 19.6 15.3 19.4\n",
      " 17.  15.6 13.1 41.3 24.3 23.3 27.  50.  50.  50.  22.7 25.  50.  23.8\n",
      " 23.8 22.3 17.4 19.1 23.1 23.6 22.6 29.4 23.2 24.6 29.9 37.2 39.8 36.2\n",
      " 37.9 32.5 26.4 29.6 50.  32.  29.8 34.9 37.  30.5 36.4 31.1 29.1 50.\n",
      " 33.3 30.3 34.6 34.9 32.9 24.1 42.3 48.5 50.  22.6 24.4 22.5 24.4 20.\n",
      " 21.7 19.3 22.4 28.1 23.7 25.  23.3 28.7 21.5 23.  26.7 21.7 27.5 30.1\n",
      " 44.8 50.  37.6 31.6 46.7 31.5 24.3 31.7 41.7 48.3 29.  24.  25.1 31.5\n",
      " 23.7 23.3 22.  20.1 22.2 23.7 17.6 18.5 24.3 20.5 24.5 26.2 24.4 24.8\n",
      " 29.6 42.8 21.9 20.9 44.  50.  36.  30.1 33.8 43.1 48.8 31.  36.5 22.8\n",
      " 30.7 50.  43.5 20.7 21.1 25.2 24.4 35.2 32.4 32.  33.2 33.1 29.1 35.1\n",
      " 45.4 35.4 46.  50.  32.2 22.  20.1 23.2 22.3 24.8 28.5 37.3 27.9 23.9\n",
      " 21.7 28.6 27.1 20.3 22.5 29.  24.8 22.  26.4 33.1 36.1 28.4 33.4 28.2\n",
      " 22.8 20.3 16.1 22.1 19.4 21.6 23.8 16.2 17.8 19.8 23.1 21.  23.8 23.1\n",
      " 20.4 18.5 25.  24.6 23.  22.2 19.3 22.6 19.8 17.1 19.4 22.2 20.7 21.1\n",
      " 19.5 18.5 20.6 19.  18.7 32.7 16.5 23.9 31.2 17.5 17.2 23.1 24.5 26.6\n",
      " 22.9 24.1 18.6 30.1 18.2 20.6 17.8 21.7 22.7 22.6 25.  19.9 20.8 16.8\n",
      " 21.9 27.5 21.9 23.1 50.  50.  50.  50.  50.  13.8 13.8 15.  13.9 13.3\n",
      " 13.1 10.2 10.4 10.9 11.3 12.3  8.8  7.2 10.5  7.4 10.2 11.5 15.1 23.2\n",
      "  9.7 13.8 12.7 13.1 12.5  8.5  5.   6.3  5.6  7.2 12.1  8.3  8.5  5.\n",
      " 11.9 27.9 17.2 27.5 15.  17.2 17.9 16.3  7.   7.2  7.5 10.4  8.8  8.4\n",
      " 16.7 14.2 20.8 13.4 11.7  8.3 10.2 10.9 11.   9.5 14.5 14.1 16.1 14.3\n",
      " 11.7 13.4  9.6  8.7  8.4 12.8 10.5 17.1 18.4 15.4 10.8 11.8 14.9 12.6\n",
      " 14.1 13.  13.4 15.2 16.1 17.8 14.9 14.1 12.7 13.5 14.9 20.  16.4 17.7\n",
      " 19.5 20.2 21.4 19.9 19.  19.1 19.1 20.1 19.9 19.6 23.2 29.8 13.8 13.3\n",
      " 16.7 12.  14.6 21.4 23.  23.7 25.  21.8 20.6 21.2 19.1 20.6 15.2  7.\n",
      "  8.1 13.6 20.1 21.8 24.5 23.1 19.7 18.3 21.2 17.5 16.8 22.4 20.6 23.9\n",
      " 22.  11.9]\n",
      "<class 'numpy.ndarray'>\n"
     ]
    },
    {
     "name": "stderr",
     "output_type": "stream",
     "text": [
      "/usr/local/anaconda3/lib/python3.6/site-packages/sklearn/model_selection/_split.py:2179: FutureWarning: From version 0.21, test_size will always complement train_size unless both are specified.\n",
      "  FutureWarning)\n"
     ]
    }
   ],
>>>>>>> 58b012f4ebe68c8c18e1a8084fa0689edab553f8
   "source": [
    "boston = datasets.load_boston()\n",
    "X_train, X_val, y_train, y_val = train_test_split(boston.data, boston.target, train_size=0.8, random_state=1)\n",
    "\n",
    "clf = linear_model.Ridge(alpha = .5)\n",
    "clf.fit(X_train, y_train)\n",
    "\n",
    "y_train_pred = clf.predict(X_train)\n",
    "y_val_pred = clf.predict(X_val)\n",
    "#predicted = clf.predict(boston.data[-10:-1])\n",
    "\n",
    "print(boston.target)\n",
    "print(type(boston.target))\n",
    "#testy = boston.target[-10:-1]\n",
    "testy = y_val\n",
    "#print(y_train_pred)\n",
    "#print(y_val_pred)\n",
    "#print(predicted)\n",
    "#print(testy)"
   ]
  },
  {
   "cell_type": "code",
<<<<<<< HEAD
   "execution_count": null,
   "metadata": {},
   "outputs": [],
=======
   "execution_count": 16,
   "metadata": {},
   "outputs": [
    {
     "name": "stdout",
     "output_type": "stream",
     "text": [
      "0.7281501498115881\n",
      "0.7654722963026931\n"
     ]
    },
    {
     "data": {
      "image/png": "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\n",
      "text/plain": [
       "<Figure size 432x288 with 1 Axes>"
      ]
     },
     "metadata": {
      "needs_background": "light"
     },
     "output_type": "display_data"
    }
   ],
>>>>>>> 58b012f4ebe68c8c18e1a8084fa0689edab553f8
   "source": [
    "predicted = clf.predict(boston.data)\n",
    "#train_predicted = clf.predi\n",
    "#testy = boston.target\n",
    "\n",
    "train_score = clf.score(X_train, y_train)\n",
    "val_score = clf.score(X_val, y_val)\n",
    "fig, ax = plt.subplots()\n",
    "\n",
    "print(train_score)\n",
    "print(val_score)\n",
    "\n",
    "ax.scatter(y_train, y_train_pred)\n",
    "ax.plot([y_train.min(), y_train.max()], [y_train.min(), y_train.max()], 'k--', lw=4)\n",
    "ax.set_xlabel('Measured')\n",
    "ax.set_ylabel('predicted')\n",
    "#plt.show()\n",
    "\n",
    "ax.scatter(testy, y_val_pred)\n",
    "#ax.plot([testy.min(), testy.max()], [testy.min(), testy.max()], 'k--', lw=4)\n",
    "ax.set_xlabel('Measured')\n",
    "ax.set_ylabel('predicted')\n",
    "plt.show()"
   ]
  },
  {
   "cell_type": "code",
<<<<<<< HEAD
   "execution_count": null,
   "metadata": {},
   "outputs": [],
   "source": []
=======
   "execution_count": 10,
   "metadata": {},
   "outputs": [
    {
     "name": "stdout",
     "output_type": "stream",
     "text": [
      "[-1.11544191e-01  5.81486415e-02  1.18704847e-02  2.10174569e+00\n",
      " -1.81162743e+01  3.10895642e+00  3.23305706e-03 -1.47881954e+00\n",
      "  3.02001740e-01 -1.12603260e-02 -9.72387505e-01  7.39741328e-03\n",
      " -5.46314771e-01]\n",
      "41.88363814723297\n"
     ]
    }
   ],
   "source": [
    "a = clf.coef_\n",
    "b = clf.intercept_ \n",
    "\n",
    "print(a)\n",
    "print(b)\n"
   ]
  },
  {
   "cell_type": "code",
   "execution_count": 14,
   "metadata": {},
   "outputs": [
    {
     "name": "stdout",
     "output_type": "stream",
     "text": [
      "training dataに対しての精度: 0.73\n"
     ]
    },
    {
     "ename": "NameError",
     "evalue": "name 'X_test' is not defined",
     "output_type": "error",
     "traceback": [
      "\u001b[0;31m---------------------------------------------------------------------------\u001b[0m",
      "\u001b[0;31mNameError\u001b[0m                                 Traceback (most recent call last)",
      "\u001b[0;32m<ipython-input-14-0717f9a9c307>\u001b[0m in \u001b[0;36m<module>\u001b[0;34m\u001b[0m\n\u001b[1;32m      1\u001b[0m \u001b[0mprint\u001b[0m\u001b[0;34m(\u001b[0m\u001b[0;34mf\"training dataに対しての精度: {clf.score(X_train, y_train):.2}\"\u001b[0m\u001b[0;34m)\u001b[0m\u001b[0;34m\u001b[0m\u001b[0;34m\u001b[0m\u001b[0m\n\u001b[0;32m----> 2\u001b[0;31m \u001b[0mprint\u001b[0m\u001b[0;34m(\u001b[0m\u001b[0;34mf\"test set scoreに対しての精度: {clf.score(X_test, y_test):.2f}\"\u001b[0m\u001b[0;34m)\u001b[0m\u001b[0;34m\u001b[0m\u001b[0;34m\u001b[0m\u001b[0m\n\u001b[0m",
      "\u001b[0;31mNameError\u001b[0m: name 'X_test' is not defined"
     ]
    }
   ],
   "source": [
    "#print(f\"training dataに対しての精度: {clf.score(X_train, y_train):.2}\")\n",
    "#print(f\"test set scoreに対しての精度: {clf.score(X_test, y_test):.2f}\")"
   ]
>>>>>>> 58b012f4ebe68c8c18e1a8084fa0689edab553f8
  }
 ],
 "metadata": {
  "kernelspec": {
   "display_name": "Python 3",
   "language": "python",
   "name": "python3"
  },
  "language_info": {
   "codemirror_mode": {
    "name": "ipython",
    "version": 3
   },
   "file_extension": ".py",
   "mimetype": "text/x-python",
   "name": "python",
   "nbconvert_exporter": "python",
   "pygments_lexer": "ipython3",
   "version": "3.6.8"
  }
 },
 "nbformat": 4,
 "nbformat_minor": 2
}
