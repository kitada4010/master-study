{
 "cells": [
  {
   "cell_type": "code",
   "execution_count": 3,
   "metadata": {
    "collapsed": true
   },
   "outputs": [],
   "source": [
    "import numpy as np\n",
    "import matplotlib.pyplot as plt"
   ]
  },
  {
   "cell_type": "code",
   "execution_count": 5,
   "metadata": {},
   "outputs": [
    {
     "name": "stdout",
     "output_type": "stream",
     "text": [
      "[ 0.35927122]\n"
     ]
    },
    {
     "data": {
      "image/png": "[encoded data removed]",
      "text/plain": [
       "<matplotlib.figure.Figure at 0x11b421c50>"
      ]
     },
     "metadata": {},
     "output_type": "display_data"
    }
   ],
   "source": [
    "Num = 10\n",
    "x = np.random.randn(Num)\n",
    "b = np.random.randn(1)\n",
    "print(b)\n",
    "y = b*x + np.random.randn(Num)*0.5\n",
    "xx = np.linspace(min(x), max(x), Num)\n",
    "plt.plot(x,y,marker='.',ls='')\n",
    "#plt.plot(y)\n",
    "#plt.plot(xx)\n",
    "plt.show()"
   ]
  },
  {
   "cell_type": "code",
   "execution_count": 9,
   "metadata": {},
   "outputs": [
    {
     "name": "stdout",
     "output_type": "stream",
     "text": [
      "[[  5.48540448  -2.03990763]\n",
      " [ -2.03990763  10.        ]]\n",
      "[[ 0.19726659  0.04024056]\n",
      " [ 0.04024056  0.1082087 ]]\n",
      "[ 0.35927122]\n",
      "0.76555986512\n"
     ]
    },
    {
     "data": {
      "image/png": "[encoded data removed]",
      "text/plain": [
       "<matplotlib.figure.Figure at 0x11bc784a8>"
      ]
     },
     "metadata": {},
     "output_type": "display_data"
    }
   ],
   "source": [
    "#print(x)\n",
    "#print(y)\n",
    "y1 = np.full((1, Num), 1)\n",
    "bm_y = np.concatenate([[y], y1])\n",
    "#print(bm_x)\n",
    "b1 = np.dot(bm_y, bm_y.T)\n",
    "print(b1)\n",
    "#b1 = np.linalg.pinv(b1)\n",
    "b1 = np.linalg.inv(b1)\n",
    "print(b1)\n",
    "b2 = np.dot(bm_y, x)\n",
    "b1 = np.dot(b1, b2)\n",
    "#b1 = np.dot(b1, y)\n",
    "#b2 = b1.I\n",
    "#b1 = b1 * b.T * y\n",
    "xy = np.arange(min(x), max(x), 0.1)\n",
    "yy = b1[0] * xy + b1[1]\n",
    "#ab = np.linspace(b1[0]*min(x)+b1[1], b1[0]*max(x)+b1[1], )\n",
    "plt.plot(x,y,marker='.',ls='')\n",
    "#plt.plot(y)\n",
    "#plt.plot(xx)\n",
    "print(b)\n",
    "print(b1[0])\n",
    "plt.plot(xy,yy)\n",
    "plt.show()"
   ]
  }
 ],
 "metadata": {
  "kernelspec": {
   "display_name": "Python 3",
   "language": "python",
   "name": "python3"
  },
  "language_info": {
   "codemirror_mode": {
    "name": "ipython",
    "version": 3
   },
   "file_extension": ".py",
   "mimetype": "text/x-python",
   "name": "python",
   "nbconvert_exporter": "python",
   "pygments_lexer": "ipython3",
   "version": "3.6.1"
  }
 },
 "nbformat": 4,
 "nbformat_minor": 2
}
