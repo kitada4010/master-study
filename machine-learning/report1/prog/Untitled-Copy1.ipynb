{
 "cells": [
  {
   "cell_type": "code",
   "execution_count": 11,
   "metadata": {},
   "outputs": [],
   "source": [
    "import numpy as np\n",
    "import matplotlib.pyplot as plt"
   ]
  },
  {
   "cell_type": "code",
   "execution_count": 21,
   "metadata": {},
   "outputs": [
    {
     "name": "stdout",
     "output_type": "stream",
     "text": [
      "[1.26216932]\n"
     ]
    },
    {
     "data": {
      "text/plain": [
       "\"\\nplt.plot(x,y,marker='.',ls='')\\nplt.show()\\nplt.savefig('')\\n#plt.savefig('figure.png')\\n\""
      ]
     },
     "execution_count": 21,
     "metadata": {},
     "output_type": "execute_result"
    }
   ],
   "source": [
    "Num = 100\n",
    "x = np.random.randn(Num)\n",
    "b = np.random.randn(1)\n",
    "print(b)\n",
    "y = b*x + np.random.randn(Num)*0.5\n",
    "xx = np.linspace(min(x), max(x), Num)\n",
    "\"\"\"\n",
    "plt.plot(x,y,marker='.',ls='')\n",
    "plt.show()\n",
    "plt.savefig('')\n",
    "#plt.savefig('figure.png')\n",
    "\"\"\""
   ]
  },
  {
   "cell_type": "code",
   "execution_count": 24,
   "metadata": {},
   "outputs": [
    {
     "name": "stdout",
     "output_type": "stream",
     "text": [
      "[[103.32791315 -17.81707687]\n",
      " [-17.81707687 100.        ]]\n",
      "[[0.00998468 0.00177898]\n",
      " [0.00177898 0.01031696]]\n",
      "[1.23709156 0.02737571]\n",
      "[1.26216932]\n",
      "1.2370915633250927\n",
      "0.027375709980945892\n"
     ]
    },
    {
     "data": {
      "image/png": "[encoded data removed]",
      "text/plain": [
       "<Figure size 432x288 with 1 Axes>"
      ]
     },
     "metadata": {
      "needs_background": "light"
     },
     "output_type": "display_data"
    }
   ],
   "source": [
    "x1 = np.full((1, Num), 1)\n",
    "bm_x = np.concatenate([[x], x1])\n",
    "bm_x = bm_x.T\n",
    "b1 = np.dot(bm_x.T, bm_x)\n",
    "print(b1)\n",
    "b1 = np.linalg.inv(b1)\n",
    "print(b1)\n",
    "b1 = np.dot(b1, bm_x.T)\n",
    "#b2 = np.dot(bm_x.T, y)\n",
    "b1 = np.dot(b1, y)\n",
    "#b1 = np.dot(b1.T, b2)\n",
    "print(b1)\n",
    "#b1 = np.dot(b1, y)\n",
    "#b2 = b1.I\n",
    "#b1 = b1 * b.T * y\n",
    "#xy = np.arange(min(x), max(x), 0.1)\n",
    "sy = b * xx\n",
    "yy = b1[0] * xx + b1[1]\n",
    "#ab = np.linspace(b1[0]*min(x)+b1[1], b1[0]*max(x)+b1[1], )\n",
    "plt.plot(x,y,marker='.',ls='')\n",
    "#plt.plot(y)\n",
    "#plt.plot(xx)\n",
    "print(b)\n",
    "print(b1[0])\n",
    "print(b1[1])\n",
    "plt.plot(xx, sy, label='true line')\n",
    "plt.plot(xx,yy, label='predict line')\n",
    "plt.legend()\n",
    "plt.savefig('')\n",
    "plt.savefig('kaku.png')"
   ]
  },
  {
   "cell_type": "code",
   "execution_count": null,
   "metadata": {},
   "outputs": [],
   "source": []
  }
 ],
 "metadata": {
  "kernelspec": {
   "display_name": "Python 3",
   "language": "python",
   "name": "python3"
  },
  "language_info": {
   "codemirror_mode": {
    "name": "ipython",
    "version": 3
   },
   "file_extension": ".py",
   "mimetype": "text/x-python",
   "name": "python",
   "nbconvert_exporter": "python",
   "pygments_lexer": "ipython3",
   "version": "3.6.8"
  }
 },
 "nbformat": 4,
 "nbformat_minor": 2
}
